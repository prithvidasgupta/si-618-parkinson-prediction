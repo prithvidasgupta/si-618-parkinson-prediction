{
 "cells": [
  {
   "cell_type": "markdown",
   "metadata": {},
   "source": [
    "# Parkinson's Disease Progression Prediction\n",
    "### Project - SI 618: Data Manipulation and Analysis\n",
    "\n",
    "Authors\n",
    "1. Nowrin Mohamed - nowrin@umich.edu\n",
    "2. Prithvijit Dasgupta - prithvid@umich.edu\n",
    "3. Sachin Salim - sachinks@umich.edu\n",
    "\n",
    "@misc{amp-parkinsons-disease-progression-prediction,\n",
    "    author = {Leslie Kirsch, Sohier Dane, Stacey Adam, Victoria Dardov},\n",
    "    title = {AMP®-Parkinson's Disease Progression Prediction},\n",
    "    publisher = {Kaggle},\n",
    "    year = {2023},\n",
    "    url = {https://kaggle.com/competitions/amp-parkinsons-disease-progression-prediction}\n",
    "}"
   ]
  },
  {
   "cell_type": "code",
   "execution_count": null,
   "metadata": {},
   "outputs": [],
   "source": [
    "import numpy as np\n",
    "import pandas as pd\n",
    "import seaborn as sns\n",
    "import matplotlib.pyplot as plt\n",
    "\n",
    "%matplotlib inline"
   ]
  },
  {
   "cell_type": "code",
   "execution_count": null,
   "metadata": {},
   "outputs": [],
   "source": [
    "supplemental_clinical_data = pd.read_csv('data/supplemental_clinical_data.csv')\n",
    "peptides_data = pd.read_csv('data/train_peptides.csv') \n",
    "clinical_data = pd.read_csv('data/train_clinical_data.csv') \n",
    "proteins_data = pd.read_csv('data/train_proteins.csv')"
   ]
  }
 ],
 "metadata": {
  "kernelspec": {
   "display_name": "Python 3",
   "language": "python",
   "name": "python3"
  },
  "language_info": {
   "name": "python",
   "version": "3.10.10"
  },
  "orig_nbformat": 4
 },
 "nbformat": 4,
 "nbformat_minor": 2
}
