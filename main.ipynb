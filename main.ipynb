{
 "cells": [
  {
   "cell_type": "markdown",
   "metadata": {},
   "source": [
    "# Parkinson's Disease Progression Prediction\n",
    "### Project - SI 618: Data Manipulation and Analysis\n",
    "\n",
    "Authors\n",
    "1. Nowrin Mohamed - nowrin@umich.edu\n",
    "2. Prithvijit Dasgupta - prithvid@umich.edu\n",
    "3. Sachin Salim - sachinks@umich.edu\n",
    "\n",
    "@misc{amp-parkinsons-disease-progression-prediction,\n",
    "    author = {Leslie Kirsch, Sohier Dane, Stacey Adam, Victoria Dardov},\n",
    "    title = {AMP®-Parkinson's Disease Progression Prediction},\n",
    "    publisher = {Kaggle},\n",
    "    year = {2023},\n",
    "    url = {https://kaggle.com/competitions/amp-parkinsons-disease-progression-prediction}\n",
    "}"
   ]
  },
  {
   "cell_type": "code",
   "execution_count": null,
   "metadata": {},
   "outputs": [],
   "source": [
    "import numpy as np\n",
    "import pandas as pd\n",
    "import seaborn as sns\n",
    "import matplotlib.pyplot as plt\n",
    "\n",
    "%matplotlib inline"
   ]
  },
  {
   "cell_type": "code",
   "execution_count": null,
   "metadata": {},
   "outputs": [],
   "source": [
    "supplemental_clinical_data = pd.read_csv('data/supplemental_clinical_data.csv')\n",
    "peptides_data = pd.read_csv('data/train_peptides.csv') \n",
    "clinical_data = pd.read_csv('data/train_clinical_data.csv') \n",
    "proteins_data = pd.read_csv('data/train_proteins.csv')"
   ]
  },
  {
   "cell_type": "markdown",
   "metadata": {},
   "source": [
    "# Proteins"
   ]
  },
  {
   "cell_type": "markdown",
   "metadata": {},
   "source": [
    "### Feature extraction"
   ]
  },
  {
   "cell_type": "code",
   "execution_count": null,
   "metadata": {},
   "outputs": [],
   "source": [
    "proteins_features = proteins_data.pivot(index='visit_id', columns='UniProt', values='NPX')\n",
    "proteins_features"
   ]
  },
  {
   "cell_type": "markdown",
   "metadata": {},
   "source": [
    "### Filling nan"
   ]
  },
  {
   "cell_type": "markdown",
   "metadata": {},
   "source": [
    "Filling with average of each protein"
   ]
  },
  {
   "cell_type": "code",
   "execution_count": null,
   "metadata": {},
   "outputs": [],
   "source": [
    "proteins_features.fillna(proteins_features.mean(), inplace=True)"
   ]
  },
  {
   "cell_type": "markdown",
   "metadata": {},
   "source": [
    "# Clinical data"
   ]
  },
  {
   "cell_type": "markdown",
   "metadata": {},
   "source": [
    "### Feature extraction"
   ]
  },
  {
   "cell_type": "code",
   "execution_count": null,
   "metadata": {},
   "outputs": [],
   "source": [
    "clinical_features = clinical_data[['visit_id', 'updrs_1', 'updrs_2', 'updrs_3', 'updrs_4']].copy()\n",
    "clinical_features"
   ]
  },
  {
   "cell_type": "markdown",
   "metadata": {},
   "source": [
    "### Filling nan"
   ]
  },
  {
   "attachments": {},
   "cell_type": "markdown",
   "metadata": {},
   "source": [
    "Filling with average of each updrs"
   ]
  },
  {
   "cell_type": "code",
   "execution_count": null,
   "metadata": {},
   "outputs": [],
   "source": [
    "mean_values = clinical_features.mean(numeric_only=True).astype(int)\n",
    "clinical_features.fillna(mean_values, inplace=True)\n",
    "clinical_features[['updrs_1', 'updrs_2', 'updrs_3', 'updrs_4']] = clinical_features[['updrs_1', 'updrs_2', 'updrs_3', 'updrs_4']].astype('int64')\n",
    "display(clinical_features.head())\n",
    "display(clinical_features.info())"
   ]
  },
  {
   "cell_type": "code",
   "execution_count": null,
   "metadata": {},
   "outputs": [],
   "source": [
    "clinical_features['updrs_3'].plot.hist()"
   ]
  }
 ],
 "metadata": {
  "kernelspec": {
   "display_name": "Python 3",
   "language": "python",
   "name": "python3"
  },
  "language_info": {
   "codemirror_mode": {
    "name": "ipython",
    "version": 3
   },
   "file_extension": ".py",
   "mimetype": "text/x-python",
   "name": "python",
   "nbconvert_exporter": "python",
   "pygments_lexer": "ipython3",
   "version": "3.10.10"
  },
  "orig_nbformat": 4
 },
 "nbformat": 4,
 "nbformat_minor": 2
}
